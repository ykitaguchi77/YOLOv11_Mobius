{
 "cells": [
  {
   "cell_type": "markdown",
   "metadata": {},
   "source": [
    "# **Facephoto_to_periocular**\n",
    "\n",
    "```\n",
    "Facephoto (/images) → RT-DETRで眼検出 → /labelsに保存\n",
    "→ labelsに従って切り抜き。左右25%ずつ広く取る、縦は横幅と一緒にする。端からはみ出る場合には黒色でletterboxに\n",
    "→ 右眼は_R、左眼は_Lを追加して保存\n",
    "```"
   ]
  },
  {
   "cell_type": "code",
   "execution_count": null,
   "metadata": {},
   "outputs": [],
   "source": []
  },
  {
   "cell_type": "code",
   "execution_count": 1,
   "metadata": {},
   "outputs": [],
   "source": [
    "orig_img_dir = r\"C:\\Users\\CorneAI\\YOLOv11_Mobius\\eyelid_image\\1-295\\images\"\n",
    "orig_label_dir = r\"C:\\Users\\CorneAI\\YOLOv11_Mobius\\eyelid_image\\1-295\\labels\"\n",
    "dst_img_dir = r\"C:\\Users\\CorneAI\\YOLOv11_Mobius\\eyelid_image\\1-295_periocular\\images\""
   ]
  },
  {
   "cell_type": "code",
   "execution_count": 2,
   "metadata": {},
   "outputs": [
    {
     "name": "stdout",
     "output_type": "stream",
     "text": [
      "新しい出力ディレクトリを作成しました: C:\\Users\\CorneAI\\YOLOv11_Mobius\\eyelid_image\\1-295_periocular\\images\n",
      "合計 4640 枚の画像が見つかりました\n"
     ]
    },
    {
     "name": "stderr",
     "output_type": "stream",
     "text": [
      "画像の処理:   2%|▏         | 92/4640 [00:08<05:57, 12.74it/s]     "
     ]
    },
    {
     "name": "stdout",
     "output_type": "stream",
     "text": [
      "警告: 115-20030213-54-155844_1132ce9beb104261c06f0c9b780a352d40cd74807477d43da38643ebc48cb4fc のラベルファイルが見つかりません。スキップします。\n"
     ]
    },
    {
     "name": "stderr",
     "output_type": "stream",
     "text": [
      "画像の処理:   6%|▌         | 257/4640 [00:24<05:30, 13.26it/s]     "
     ]
    },
    {
     "name": "stdout",
     "output_type": "stream",
     "text": [
      "警告: 138-20140903-11-090100_ac43668da8f46190a60a8ca7da88107187b4a02d94fbe6bb1b7800a9add12bef のラベルファイルが見つかりません。スキップします。\n"
     ]
    },
    {
     "name": "stderr",
     "output_type": "stream",
     "text": [
      "画像の処理:   7%|▋         | 339/4640 [00:29<03:54, 18.35it/s]     "
     ]
    },
    {
     "name": "stdout",
     "output_type": "stream",
     "text": [
      "警告: 146-20110825-90-000000_97fb6b3e564a3f467c11b067855d4d0939902c7d5a7ff7244a9c2acb6b94601c のラベルファイルが見つかりません。スキップします。\n"
     ]
    },
    {
     "name": "stderr",
     "output_type": "stream",
     "text": [
      "画像の処理:  11%|█         | 507/4640 [00:43<03:08, 21.94it/s]     "
     ]
    },
    {
     "name": "stdout",
     "output_type": "stream",
     "text": [
      "警告: 16-20090318-83-141336_0bf071c39140cb543a7b64c5a898960217e857e6b6f5d889483a8969c8404e2c のラベルファイルが見つかりません。スキップします。\n",
      "警告: 16-20090318-83-141336_f40c4b7c3c645ae52334219b22eafa36c3414e6e7ab83b0186ac307756d71d3e のラベルファイルが見つかりません。スキップします。\n"
     ]
    },
    {
     "name": "stderr",
     "output_type": "stream",
     "text": [
      "画像の処理:  15%|█▌        | 699/4640 [01:00<03:29, 18.80it/s]     "
     ]
    },
    {
     "name": "stdout",
     "output_type": "stream",
     "text": [
      "警告: 177-20010524-59-095540_3ab855f7f4286d2d90cf6abe6de0a7bea1109955949887f6732c059fece3c8c0 のラベルファイルが見つかりません。スキップします。\n",
      "警告: 177-20010524-59-095540_dd7f2d9f9a7b25352450f1c3d7142668272130035ebe9d89266dcdda476eacb2 のラベルファイルが見つかりません。スキップします。\n"
     ]
    },
    {
     "name": "stderr",
     "output_type": "stream",
     "text": [
      "画像の処理:  18%|█▊        | 852/4640 [01:12<07:50,  8.05it/s]     "
     ]
    },
    {
     "name": "stdout",
     "output_type": "stream",
     "text": [
      "警告: 195-20120530-37-120713_cc63102a5de84dfbfffb2d8849b285ec0b9964fee1e2958475f7c40261fb7286 のラベルファイルが見つかりません。スキップします。\n"
     ]
    },
    {
     "name": "stderr",
     "output_type": "stream",
     "text": [
      "画像の処理:  19%|█▉        | 885/4640 [01:14<02:51, 21.95it/s]     "
     ]
    },
    {
     "name": "stdout",
     "output_type": "stream",
     "text": [
      "警告: 199-20080917-59-173559_5e4be7870eab0b7af07116c69662cf52d7719de45aeff3cc1e1741dd3633948c のラベルファイルが見つかりません。スキップします。\n",
      "警告: 199-20080922-59-174621_5cf90053c8c64e7114889673e766cbe0eabb36b54afb6d92a2ef65c0247adda0 のラベルファイルが見つかりません。スキップします。\n"
     ]
    },
    {
     "name": "stderr",
     "output_type": "stream",
     "text": [
      "画像の処理:  25%|██▍       | 1154/4640 [01:36<02:09, 26.91it/s]     "
     ]
    },
    {
     "name": "stdout",
     "output_type": "stream",
     "text": [
      "警告: 225-20131217-12-153648_50b8b51e96af0169238dda48968f76969b303ff07b91602e70f846f0d82d7bb9 のラベルファイルが見つかりません。スキップします。\n",
      "警告: 225-20131217-12-155201_61342c3751ec13035779cf3a1186ff6367b31c7cd5864aee77d4a8a75a94e00f のラベルファイルが見つかりません。スキップします。\n",
      "警告: 225-20131217-12-155201_91fea7fd3a68fd90e1bce66d3c1609a8c3744a867a7d08a18508e8ba8134a017 のラベルファイルが見つかりません。スキップします。\n"
     ]
    },
    {
     "name": "stderr",
     "output_type": "stream",
     "text": [
      "画像の処理:  25%|██▌       | 1166/4640 [01:37<02:09, 26.90it/s]     "
     ]
    },
    {
     "name": "stdout",
     "output_type": "stream",
     "text": [
      "警告: 225-20140326-12-101216_d7cf67fbb8b9cc46b352346a157fbb2ba0432c104b9b607d47dc77444b86b55a のラベルファイルが見つかりません。スキップします。\n"
     ]
    },
    {
     "name": "stderr",
     "output_type": "stream",
     "text": [
      "画像の処理:  26%|██▌       | 1185/4640 [01:38<02:49, 20.44it/s]     "
     ]
    },
    {
     "name": "stdout",
     "output_type": "stream",
     "text": [
      "警告: 23-20021112-72-145634_c9d774d58d32cd7d9724e8155fdc5ebe2c0f1ccc000787e8f4bdbb9fa74d8ed0 のラベルファイルが見つかりません。スキップします。\n"
     ]
    },
    {
     "name": "stderr",
     "output_type": "stream",
     "text": [
      "画像の処理:  27%|██▋       | 1240/4640 [01:41<02:49, 20.06it/s]     "
     ]
    },
    {
     "name": "stdout",
     "output_type": "stream",
     "text": [
      "警告: 238-20110608-4-000000_19f1bca597fc3d47ff246322079d5fe6b0f447c46c9cb058f57f2f7c0177b4ef のラベルファイルが見つかりません。スキップします。\n"
     ]
    },
    {
     "name": "stderr",
     "output_type": "stream",
     "text": [
      "画像の処理:  28%|██▊       | 1287/4640 [01:43<02:29, 22.50it/s]     "
     ]
    },
    {
     "name": "stdout",
     "output_type": "stream",
     "text": [
      "警告: 241-20131211-9-113218_88a03705c54c1f1655608de107a505e04a8fb1263f5acc1fb73901e11755347f のラベルファイルが見つかりません。スキップします。\n"
     ]
    },
    {
     "name": "stderr",
     "output_type": "stream",
     "text": [
      "画像の処理:  29%|██▊       | 1326/4640 [01:46<02:33, 21.65it/s]     "
     ]
    },
    {
     "name": "stdout",
     "output_type": "stream",
     "text": [
      "警告: 249-20000705-79-095636_2cb0959468f3b3b5921534883a5d3d81f6df4f189bbbf498db885a5d43d85a82 のラベルファイルが見つかりません。スキップします。\n",
      "警告: 249-20000705-79-095636_703f57a91e5bacaa5916e16f9a33b61196af3e770ab03dc7c6031a401c3e8d34 のラベルファイルが見つかりません。スキップします。\n"
     ]
    },
    {
     "name": "stderr",
     "output_type": "stream",
     "text": [
      "画像の処理:  32%|███▏      | 1500/4640 [01:58<03:05, 16.92it/s]     "
     ]
    },
    {
     "name": "stdout",
     "output_type": "stream",
     "text": [
      "警告: 269-20021216-60-112011_0fa224997125f8d6eb49158d1742dfbd5c9cf2b05301d1dbe1c0720f9463b79f のラベルファイルが見つかりません。スキップします。\n"
     ]
    },
    {
     "name": "stderr",
     "output_type": "stream",
     "text": [
      "画像の処理:  33%|███▎      | 1525/4640 [02:00<02:05, 24.88it/s]     "
     ]
    },
    {
     "name": "stdout",
     "output_type": "stream",
     "text": [
      "警告: 274-20030627-85-151218_4ab1aa2526b6205c6969435a0e84f56859933a112a345bf3c0277e975b955f9a のラベルファイルが見つかりません。スキップします。\n"
     ]
    },
    {
     "name": "stderr",
     "output_type": "stream",
     "text": [
      "画像の処理:  34%|███▍      | 1572/4640 [02:04<03:10, 16.11it/s]     "
     ]
    },
    {
     "name": "stdout",
     "output_type": "stream",
     "text": [
      "警告: 282-20010129-15-151357_ab39fd39c32b187f9fda7b9d43dd087cf14d293ceaf3d45a25d0bd7faf435fa1 のラベルファイルが見つかりません。スキップします。\n",
      "警告: 282-20010129-15-151357_f6c98091184107a731d1103069a8546a1d8b7fb87f256b3479b13247c2287e40 のラベルファイルが見つかりません。スキップします。\n"
     ]
    },
    {
     "name": "stderr",
     "output_type": "stream",
     "text": [
      "画像の処理:  35%|███▌      | 1642/4640 [02:09<02:22, 21.05it/s]     "
     ]
    },
    {
     "name": "stdout",
     "output_type": "stream",
     "text": [
      "警告: 287-20040414-48-144037_f60954ebdbd15fdb0d196bd21410a7d79ee5b79856ff92117b49340900ab4e51 のラベルファイルが見つかりません。スキップします。\n"
     ]
    },
    {
     "name": "stderr",
     "output_type": "stream",
     "text": [
      "画像の処理:  36%|███▌      | 1668/4640 [02:11<04:04, 12.18it/s]     "
     ]
    },
    {
     "name": "stdout",
     "output_type": "stream",
     "text": [
      "警告: 292-20120119-58-093603_8c165c9e2e0ade90edf8738d387809acc7b32ade5ea2eee997d9caff7595d102 のラベルファイルが見つかりません。スキップします。\n"
     ]
    },
    {
     "name": "stderr",
     "output_type": "stream",
     "text": [
      "画像の処理:  42%|████▏     | 1948/4640 [02:33<01:20, 33.59it/s]     "
     ]
    },
    {
     "name": "stdout",
     "output_type": "stream",
     "text": [
      "警告: 51-20030129-3-100308_96396940edf93d2b0fdf12bd21e287c085d0449258c8c6a1e57c116fc17b4e17 のラベルファイルが見つかりません。スキップします。\n",
      "警告: 51-20030129-3-100308_d9ac9288b5c9fef82bf9224e88f3147a3187fd5ffbd11e649e5e608858ef9f3b のラベルファイルが見つかりません。スキップします。\n"
     ]
    },
    {
     "name": "stderr",
     "output_type": "stream",
     "text": [
      "画像の処理:  47%|████▋     | 2191/4640 [02:49<01:56, 21.06it/s]     "
     ]
    },
    {
     "name": "stdout",
     "output_type": "stream",
     "text": [
      "警告: 80-20001122-22-131410_cf25ca912f676b11bdb6f9cfe75ec17410862b9599fa48a36fede69cf3697523 のラベルファイルが見つかりません。スキップします。\n",
      "警告: 80-20010731-22-122059_63f1e91352399faa423a4ef50ded40f5749d62b92e914a730937365bc0400ea3 のラベルファイルが見つかりません。スキップします。\n"
     ]
    },
    {
     "name": "stderr",
     "output_type": "stream",
     "text": [
      "画像の処理:  48%|████▊     | 2250/4640 [02:54<03:32, 11.27it/s]     "
     ]
    },
    {
     "name": "stdout",
     "output_type": "stream",
     "text": [
      "警告: 87-20000706-71-130236_e37f4b5bafbf692128e87bdccd6c51bcea1ed844a2c3591469c28b1008c6bd2b のラベルファイルが見つかりません。スキップします。\n",
      "警告: 87-20000921-71-123550_97a549a3bab277a305ac4ceebb8c57d6ca073fc983e2e2938e5b34ad019fad5a のラベルファイルが見つかりません。スキップします。\n"
     ]
    },
    {
     "name": "stderr",
     "output_type": "stream",
     "text": [
      "画像の処理:  52%|█████▏    | 2410/4640 [03:09<02:40, 13.90it/s]     "
     ]
    },
    {
     "name": "stdout",
     "output_type": "stream",
     "text": [
      "警告: 115-20030213-54-155844_1132ce9beb104261c06f0c9b780a352d40cd74807477d43da38643ebc48cb4fc のラベルファイルが見つかりません。スキップします。\n"
     ]
    },
    {
     "name": "stderr",
     "output_type": "stream",
     "text": [
      "画像の処理:  55%|█████▌    | 2574/4640 [03:22<02:32, 13.51it/s]     "
     ]
    },
    {
     "name": "stdout",
     "output_type": "stream",
     "text": [
      "警告: 138-20140903-11-090100_ac43668da8f46190a60a8ca7da88107187b4a02d94fbe6bb1b7800a9add12bef のラベルファイルが見つかりません。スキップします。\n"
     ]
    },
    {
     "name": "stderr",
     "output_type": "stream",
     "text": [
      "画像の処理:  57%|█████▋    | 2659/4640 [03:27<01:33, 21.30it/s]     "
     ]
    },
    {
     "name": "stdout",
     "output_type": "stream",
     "text": [
      "警告: 146-20110825-90-000000_97fb6b3e564a3f467c11b067855d4d0939902c7d5a7ff7244a9c2acb6b94601c のラベルファイルが見つかりません。スキップします。\n"
     ]
    },
    {
     "name": "stderr",
     "output_type": "stream",
     "text": [
      "画像の処理:  61%|██████    | 2825/4640 [03:39<01:11, 25.29it/s]     "
     ]
    },
    {
     "name": "stdout",
     "output_type": "stream",
     "text": [
      "警告: 16-20090318-83-141336_0bf071c39140cb543a7b64c5a898960217e857e6b6f5d889483a8969c8404e2c のラベルファイルが見つかりません。スキップします。\n",
      "警告: 16-20090318-83-141336_f40c4b7c3c645ae52334219b22eafa36c3414e6e7ab83b0186ac307756d71d3e のラベルファイルが見つかりません。スキップします。\n"
     ]
    },
    {
     "name": "stderr",
     "output_type": "stream",
     "text": [
      "画像の処理:  65%|██████▌   | 3018/4640 [03:52<01:14, 21.79it/s]     "
     ]
    },
    {
     "name": "stdout",
     "output_type": "stream",
     "text": [
      "警告: 177-20010524-59-095540_3ab855f7f4286d2d90cf6abe6de0a7bea1109955949887f6732c059fece3c8c0 のラベルファイルが見つかりません。スキップします。\n",
      "警告: 177-20010524-59-095540_dd7f2d9f9a7b25352450f1c3d7142668272130035ebe9d89266dcdda476eacb2 のラベルファイルが見つかりません。スキップします。\n"
     ]
    },
    {
     "name": "stderr",
     "output_type": "stream",
     "text": [
      "画像の処理:  68%|██████▊   | 3170/4640 [04:03<02:41,  9.11it/s]     "
     ]
    },
    {
     "name": "stdout",
     "output_type": "stream",
     "text": [
      "警告: 195-20120530-37-120713_cc63102a5de84dfbfffb2d8849b285ec0b9964fee1e2958475f7c40261fb7286 のラベルファイルが見つかりません。スキップします。\n"
     ]
    },
    {
     "name": "stderr",
     "output_type": "stream",
     "text": [
      "画像の処理:  69%|██████▉   | 3207/4640 [04:05<00:42, 33.78it/s]     "
     ]
    },
    {
     "name": "stdout",
     "output_type": "stream",
     "text": [
      "警告: 199-20080917-59-173559_5e4be7870eab0b7af07116c69662cf52d7719de45aeff3cc1e1741dd3633948c のラベルファイルが見つかりません。スキップします。\n",
      "警告: 199-20080922-59-174621_5cf90053c8c64e7114889673e766cbe0eabb36b54afb6d92a2ef65c0247adda0 のラベルファイルが見つかりません。スキップします。\n"
     ]
    },
    {
     "name": "stderr",
     "output_type": "stream",
     "text": [
      "画像の処理:  75%|███████▍  | 3473/4640 [04:21<00:44, 26.46it/s]     "
     ]
    },
    {
     "name": "stdout",
     "output_type": "stream",
     "text": [
      "警告: 225-20131217-12-153648_50b8b51e96af0169238dda48968f76969b303ff07b91602e70f846f0d82d7bb9 のラベルファイルが見つかりません。スキップします。\n",
      "警告: 225-20131217-12-155201_61342c3751ec13035779cf3a1186ff6367b31c7cd5864aee77d4a8a75a94e00f のラベルファイルが見つかりません。スキップします。\n",
      "警告: 225-20131217-12-155201_91fea7fd3a68fd90e1bce66d3c1609a8c3744a867a7d08a18508e8ba8134a017 のラベルファイルが見つかりません。スキップします。\n"
     ]
    },
    {
     "name": "stderr",
     "output_type": "stream",
     "text": [
      "画像の処理:  75%|███████▌  | 3484/4640 [04:21<00:38, 29.72it/s]     "
     ]
    },
    {
     "name": "stdout",
     "output_type": "stream",
     "text": [
      "警告: 225-20140326-12-101216_d7cf67fbb8b9cc46b352346a157fbb2ba0432c104b9b607d47dc77444b86b55a のラベルファイルが見つかりません。スキップします。\n"
     ]
    },
    {
     "name": "stderr",
     "output_type": "stream",
     "text": [
      "画像の処理:  75%|███████▌  | 3503/4640 [04:22<00:44, 25.81it/s]     "
     ]
    },
    {
     "name": "stdout",
     "output_type": "stream",
     "text": [
      "警告: 23-20021112-72-145634_c9d774d58d32cd7d9724e8155fdc5ebe2c0f1ccc000787e8f4bdbb9fa74d8ed0 のラベルファイルが見つかりません。スキップします。\n"
     ]
    },
    {
     "name": "stderr",
     "output_type": "stream",
     "text": [
      "画像の処理:  77%|███████▋  | 3558/4640 [04:25<00:41, 26.18it/s]     "
     ]
    },
    {
     "name": "stdout",
     "output_type": "stream",
     "text": [
      "警告: 238-20110608-4-000000_19f1bca597fc3d47ff246322079d5fe6b0f447c46c9cb058f57f2f7c0177b4ef のラベルファイルが見つかりません。スキップします。\n"
     ]
    },
    {
     "name": "stderr",
     "output_type": "stream",
     "text": [
      "画像の処理:  78%|███████▊  | 3606/4640 [04:27<00:41, 25.02it/s]     "
     ]
    },
    {
     "name": "stdout",
     "output_type": "stream",
     "text": [
      "警告: 241-20131211-9-113218_88a03705c54c1f1655608de107a505e04a8fb1263f5acc1fb73901e11755347f のラベルファイルが見つかりません。スキップします。\n"
     ]
    },
    {
     "name": "stderr",
     "output_type": "stream",
     "text": [
      "画像の処理:  79%|███████▊  | 3644/4640 [04:29<00:41, 23.92it/s]     "
     ]
    },
    {
     "name": "stdout",
     "output_type": "stream",
     "text": [
      "警告: 249-20000705-79-095636_2cb0959468f3b3b5921534883a5d3d81f6df4f189bbbf498db885a5d43d85a82 のラベルファイルが見つかりません。スキップします。\n",
      "警告: 249-20000705-79-095636_703f57a91e5bacaa5916e16f9a33b61196af3e770ab03dc7c6031a401c3e8d34 のラベルファイルが見つかりません。スキップします。\n"
     ]
    },
    {
     "name": "stderr",
     "output_type": "stream",
     "text": [
      "画像の処理:  82%|████████▏ | 3818/4640 [04:40<00:45, 18.13it/s]     "
     ]
    },
    {
     "name": "stdout",
     "output_type": "stream",
     "text": [
      "警告: 269-20021216-60-112011_0fa224997125f8d6eb49158d1742dfbd5c9cf2b05301d1dbe1c0720f9463b79f のラベルファイルが見つかりません。スキップします。\n"
     ]
    },
    {
     "name": "stderr",
     "output_type": "stream",
     "text": [
      "画像の処理:  83%|████████▎ | 3845/4640 [04:41<00:31, 25.31it/s]     "
     ]
    },
    {
     "name": "stdout",
     "output_type": "stream",
     "text": [
      "警告: 274-20030627-85-151218_4ab1aa2526b6205c6969435a0e84f56859933a112a345bf3c0277e975b955f9a のラベルファイルが見つかりません。スキップします。\n"
     ]
    },
    {
     "name": "stderr",
     "output_type": "stream",
     "text": [
      "画像の処理:  84%|████████▍ | 3891/4640 [04:47<00:51, 14.42it/s]     "
     ]
    },
    {
     "name": "stdout",
     "output_type": "stream",
     "text": [
      "警告: 282-20010129-15-151357_ab39fd39c32b187f9fda7b9d43dd087cf14d293ceaf3d45a25d0bd7faf435fa1 のラベルファイルが見つかりません。スキップします。\n",
      "警告: 282-20010129-15-151357_f6c98091184107a731d1103069a8546a1d8b7fb87f256b3479b13247c2287e40 のラベルファイルが見つかりません。スキップします。\n"
     ]
    },
    {
     "name": "stderr",
     "output_type": "stream",
     "text": [
      "画像の処理:  85%|████████▌ | 3960/4640 [04:52<00:28, 23.69it/s]     "
     ]
    },
    {
     "name": "stdout",
     "output_type": "stream",
     "text": [
      "警告: 287-20040414-48-144037_f60954ebdbd15fdb0d196bd21410a7d79ee5b79856ff92117b49340900ab4e51 のラベルファイルが見つかりません。スキップします。\n"
     ]
    },
    {
     "name": "stderr",
     "output_type": "stream",
     "text": [
      "画像の処理:  86%|████████▌ | 3985/4640 [04:53<00:42, 15.34it/s]     "
     ]
    },
    {
     "name": "stdout",
     "output_type": "stream",
     "text": [
      "警告: 292-20120119-58-093603_8c165c9e2e0ade90edf8738d387809acc7b32ade5ea2eee997d9caff7595d102 のラベルファイルが見つかりません。スキップします。\n"
     ]
    },
    {
     "name": "stderr",
     "output_type": "stream",
     "text": [
      "画像の処理:  92%|█████████▏| 4265/4640 [05:11<00:11, 32.67it/s]     "
     ]
    },
    {
     "name": "stdout",
     "output_type": "stream",
     "text": [
      "警告: 51-20030129-3-100308_96396940edf93d2b0fdf12bd21e287c085d0449258c8c6a1e57c116fc17b4e17 のラベルファイルが見つかりません。スキップします。\n",
      "警告: 51-20030129-3-100308_d9ac9288b5c9fef82bf9224e88f3147a3187fd5ffbd11e649e5e608858ef9f3b のラベルファイルが見つかりません。スキップします。\n"
     ]
    },
    {
     "name": "stderr",
     "output_type": "stream",
     "text": [
      "画像の処理:  97%|█████████▋| 4512/4640 [05:25<00:05, 24.43it/s]     "
     ]
    },
    {
     "name": "stdout",
     "output_type": "stream",
     "text": [
      "警告: 80-20001122-22-131410_cf25ca912f676b11bdb6f9cfe75ec17410862b9599fa48a36fede69cf3697523 のラベルファイルが見つかりません。スキップします。\n",
      "警告: 80-20010731-22-122059_63f1e91352399faa423a4ef50ded40f5749d62b92e914a730937365bc0400ea3 のラベルファイルが見つかりません。スキップします。\n"
     ]
    },
    {
     "name": "stderr",
     "output_type": "stream",
     "text": [
      "画像の処理:  98%|█████████▊| 4568/4640 [05:29<00:06, 11.42it/s]     "
     ]
    },
    {
     "name": "stdout",
     "output_type": "stream",
     "text": [
      "警告: 87-20000706-71-130236_e37f4b5bafbf692128e87bdccd6c51bcea1ed844a2c3591469c28b1008c6bd2b のラベルファイルが見つかりません。スキップします。\n",
      "警告: 87-20000921-71-123550_97a549a3bab277a305ac4ceebb8c57d6ca073fc983e2e2938e5b34ad019fad5a のラベルファイルが見つかりません。スキップします。\n"
     ]
    },
    {
     "name": "stderr",
     "output_type": "stream",
     "text": [
      "画像の処理: 100%|██████████| 4640/4640 [05:35<00:00, 13.82it/s]     "
     ]
    },
    {
     "name": "stdout",
     "output_type": "stream",
     "text": [
      "警告: 128-20190508-47-134032_5db81163ba9370f7b47e896a86662b51eecc24df7b5e095a28e728cb3d823219 のラベルファイルが見つかりません。スキップします。\n",
      "警告: 128-20190508-47-135005_fed5582711f2ebfae749ae7bc8ba6a1dfe8613ffc26cb4d585e4cb745c263c8b のラベルファイルが見つかりません。スキップします。\n",
      "警告: 128-20190508-47-134032_5db81163ba9370f7b47e896a86662b51eecc24df7b5e095a28e728cb3d823219 のラベルファイルが見つかりません。スキップします。\n",
      "警告: 128-20190508-47-135005_fed5582711f2ebfae749ae7bc8ba6a1dfe8613ffc26cb4d585e4cb745c263c8b のラベルファイルが見つかりません。スキップします。\n",
      "処理が完了しました！\n"
     ]
    },
    {
     "name": "stderr",
     "output_type": "stream",
     "text": [
      "\n"
     ]
    }
   ],
   "source": [
    "import os\n",
    "import cv2\n",
    "import numpy as np\n",
    "import glob\n",
    "import shutil\n",
    "from tqdm import tqdm\n",
    "\n",
    "# 1. 元の画像とラベルファイルを読み込み\n",
    "# 2. ラベルファイルから眼の位置情報を取得\n",
    "# 3. 眼の周辺を左右に25%ずつ拡張して切り抜き\n",
    "# 4. 右眼は_R、左眼は_Lを付けて保存\n",
    "# 5. 画像からはみ出る場合は黒色でパディング\n",
    "\n",
    "# ディレクトリ定義\n",
    "orig_img_dir = r\"C:\\Users\\CorneAI\\YOLOv11_Mobius\\eyelid_image\\1-295\\images\"\n",
    "orig_label_dir = r\"C:\\Users\\CorneAI\\YOLOv11_Mobius\\eyelid_image\\1-295\\labels\"\n",
    "dst_img_dir = r\"C:\\Users\\CorneAI\\YOLOv11_Mobius\\eyelid_image\\1-295_periocular\\images\"\n",
    "\n",
    "# 保存先ディレクトリが存在する場合は削除して作り直す\n",
    "if os.path.exists(dst_img_dir):\n",
    "    print(f\"既存のディレクトリを削除します: {dst_img_dir}\")\n",
    "    shutil.rmtree(dst_img_dir)\n",
    "os.makedirs(dst_img_dir, exist_ok=True)\n",
    "print(f\"新しい出力ディレクトリを作成しました: {dst_img_dir}\")\n",
    "\n",
    "# 対応する画像拡張子の定義\n",
    "img_extensions = ['*.jpg', '*.JPG', '*.jpeg', '*.JPEG', '*.png', '*.PNG', '*.tif', '*.TIF', '*.tiff', '*.TIFF']\n",
    "\n",
    "# すべての画像ファイルを検索\n",
    "all_images = []\n",
    "for ext in img_extensions:\n",
    "    all_images.extend(glob.glob(os.path.join(orig_img_dir, ext)))\n",
    "\n",
    "print(f\"合計 {len(all_images)} 枚の画像が見つかりました\")\n",
    "\n",
    "# 各画像を処理\n",
    "for img_path in tqdm(all_images, desc=\"画像の処理\"):\n",
    "    # 拡張子なしのベースネームを取得\n",
    "    img_basename = os.path.splitext(os.path.basename(img_path))[0]\n",
    "    \n",
    "    # 対応するラベルファイルを探す\n",
    "    label_path = os.path.join(orig_label_dir, f\"{img_basename}.txt\")\n",
    "    \n",
    "    # ラベルファイルが存在しない場合はスキップ\n",
    "    if not os.path.exists(label_path):\n",
    "        tqdm.write(f\"警告: {img_basename} のラベルファイルが見つかりません。スキップします。\")\n",
    "        continue\n",
    "    \n",
    "    # 画像を読み込む\n",
    "    original_image = cv2.imread(img_path)\n",
    "    if original_image is None:\n",
    "        tqdm.write(f\"警告: 画像 {img_path} の読み込みに失敗しました。スキップします。\")\n",
    "        continue\n",
    "    \n",
    "    img_height, img_width = original_image.shape[:2]\n",
    "    \n",
    "    # アノテーションを読み込む\n",
    "    with open(label_path, 'r') as f:\n",
    "        lines = f.readlines()\n",
    "    \n",
    "    # 各アノテーション（眼）を処理\n",
    "    for line in lines:\n",
    "        parts = line.strip().split()\n",
    "        if len(parts) < 5:\n",
    "            continue\n",
    "        \n",
    "        cls_id = int(parts[0])\n",
    "        x_center = float(parts[1])\n",
    "        y_center = float(parts[2])\n",
    "        width = float(parts[3])\n",
    "        height = float(parts[4])\n",
    "        \n",
    "        # 右眼(R)か左眼(L)かを判定\n",
    "        class_label = \"R\" if cls_id == 0 else \"L\"\n",
    "        \n",
    "        # 正規化された座標をピクセル値に変換\n",
    "        x_center_px = x_center * img_width\n",
    "        y_center_px = y_center * img_height\n",
    "        width_px = width * img_width\n",
    "        height_px = height * img_height\n",
    "        \n",
    "        # 拡張された寸法を計算（左右25%ずつ）\n",
    "        expanded_width = width_px * 1.5  # 元のサイズ + 50%（左右それぞれ25%）\n",
    "        expanded_height = expanded_width  # 正方形にする\n",
    "        \n",
    "        # 新しい切り取り座標を計算\n",
    "        new_x1 = int(x_center_px - expanded_width / 2)\n",
    "        new_y1 = int(y_center_px - expanded_height / 2)\n",
    "        new_x2 = int(x_center_px + expanded_width / 2)\n",
    "        new_y2 = int(y_center_px + expanded_height / 2)\n",
    "        \n",
    "        # 必要な場合のパディングを計算\n",
    "        pad_left = max(0, -new_x1)\n",
    "        pad_top = max(0, -new_y1)\n",
    "        pad_right = max(0, new_x2 - img_width)\n",
    "        pad_bottom = max(0, new_y2 - img_height)\n",
    "        \n",
    "        # 画像の境界内の実際の切り取り座標を計算\n",
    "        crop_x1 = max(0, new_x1)\n",
    "        crop_y1 = max(0, new_y1)\n",
    "        crop_x2 = min(img_width, new_x2)\n",
    "        crop_y2 = min(img_height, new_y2)\n",
    "        \n",
    "        # 領域を切り取る\n",
    "        cropped = original_image[crop_y1:crop_y2, crop_x1:crop_x2].copy()\n",
    "        \n",
    "        # 必要な場合はパディングを適用（画像がはみ出る場合）\n",
    "        if pad_left > 0 or pad_top > 0 or pad_right > 0 or pad_bottom > 0:\n",
    "            padded_width = crop_x2 - crop_x1 + pad_left + pad_right\n",
    "            padded_height = crop_y2 - crop_y1 + pad_top + pad_bottom\n",
    "            padded = np.zeros((padded_height, padded_width, 3), dtype=np.uint8)  # 黒背景\n",
    "            padded[pad_top:pad_top+(crop_y2-crop_y1), pad_left:pad_left+(crop_x2-crop_x1)] = cropped\n",
    "            cropped = padded\n",
    "        \n",
    "        # 出力ファイル名を作成\n",
    "        output_filename = f\"{img_basename}_{class_label}.jpg\"\n",
    "        output_path = os.path.join(dst_img_dir, output_filename)\n",
    "        \n",
    "        # 切り取った画像を保存\n",
    "        cv2.imwrite(output_path, cropped)\n",
    "\n",
    "print(\"処理が完了しました！\")"
   ]
  }
 ],
 "metadata": {
  "kernelspec": {
   "display_name": "instanceenv",
   "language": "python",
   "name": "python3"
  },
  "language_info": {
   "codemirror_mode": {
    "name": "ipython",
    "version": 3
   },
   "file_extension": ".py",
   "mimetype": "text/x-python",
   "name": "python",
   "nbconvert_exporter": "python",
   "pygments_lexer": "ipython3",
   "version": "3.10.5"
  }
 },
 "nbformat": 4,
 "nbformat_minor": 2
}
