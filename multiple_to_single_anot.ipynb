{
 "cells": [
  {
   "cell_type": "markdown",
   "metadata": {},
   "source": [
    "このコードは以下の処理を行います:\n",
    "1. 指定されたディレクトリ内のラベルファイル(.txt)を読み込み\n",
    "2. 各ファイル内のラベルを処理し、pupil(0), iris(2), eyelid (3)について1つのラベルを残して他は削除（残したラベルは0に変更）\n",
    "3. 処理結果を元のファイルに上書き保存\n",
    "4. 訓練データとバリデーションデータの両方のディレクトリに対して処理を実行\n",
    "5. tqdmを使用して処理の進捗状況を表示"
   ]
  },
  {
   "cell_type": "code",
   "execution_count": 1,
   "metadata": {},
   "outputs": [
    {
     "name": "stdout",
     "output_type": "stream",
     "text": [
      "ラベル処理を開始します...\n"
     ]
    },
    {
     "name": "stderr",
     "output_type": "stream",
     "text": [
      "Processing labels: 100%|██████████| 2447/2447 [00:00<00:00, 3200.77it/s]\n",
      "Processing labels: 100%|██████████| 1095/1095 [00:00<00:00, 3168.13it/s]"
     ]
    },
    {
     "name": "stdout",
     "output_type": "stream",
     "text": [
      "すべての処理が完了しました。\n"
     ]
    },
    {
     "name": "stderr",
     "output_type": "stream",
     "text": [
      "\n"
     ]
    }
   ],
   "source": [
    "#Eyelid (2)\n",
    "import os\n",
    "from tqdm import tqdm\n",
    "\n",
    "def process_label_file(file_path):\n",
    "    # ファイルを読み込む\n",
    "    with open(file_path, 'r') as f:\n",
    "        lines = f.readlines()\n",
    "    \n",
    "    # 処理された行を保存する\n",
    "    processed_lines = []\n",
    "    \n",
    "    for line in lines:\n",
    "        # スペースで分割\n",
    "        parts = line.strip().split(' ')\n",
    "        \n",
    "        # ラベルが2の場合のみ処理\n",
    "        if parts[0] == '2':\n",
    "            # ラベルを0に変更\n",
    "            parts[0] = '0'\n",
    "            # 行を再構築\n",
    "            processed_lines.append(' '.join(parts) + '\\n')\n",
    "    \n",
    "    # 処理結果をファイルに書き込む\n",
    "    with open(file_path, 'w') as f:\n",
    "        f.writelines(processed_lines)\n",
    "\n",
    "def process_directory(directory_path):\n",
    "    # ディレクトリ内のtxtファイルのリストを取得\n",
    "    txt_files = [f for f in os.listdir(directory_path) if f.endswith('.txt')]\n",
    "    \n",
    "    # tqdmで進捗バーを表示しながら処理\n",
    "    for filename in tqdm(txt_files, desc=f\"Processing {os.path.basename(directory_path)}\"):\n",
    "        file_path = os.path.join(directory_path, filename)\n",
    "        process_label_file(file_path)\n",
    "\n",
    "# 訓練データとバリデーションデータのディレクトリパスを指定\n",
    "train_dir = r\"C:\\Users\\CorneAI\\Desktop\\Mobius_single_annot\\eyelid\\train\\labels\"\n",
    "val_dir = r\"C:\\Users\\CorneAI\\Desktop\\Mobius_single_annot\\eyelid\\val\\labels\"\n",
    "\n",
    "print(\"ラベル処理を開始します...\")\n",
    "\n",
    "# 両方のディレクトリを処理\n",
    "process_directory(train_dir)\n",
    "process_directory(val_dir)\n",
    "\n",
    "print(\"すべての処理が完了しました。\")"
   ]
  },
  {
   "cell_type": "code",
   "execution_count": 2,
   "metadata": {},
   "outputs": [
    {
     "name": "stdout",
     "output_type": "stream",
     "text": [
      "ラベル処理を開始します...\n"
     ]
    },
    {
     "name": "stderr",
     "output_type": "stream",
     "text": [
      "Processing labels: 100%|██████████| 2447/2447 [00:00<00:00, 6180.22it/s]\n",
      "Processing labels: 100%|██████████| 1095/1095 [00:00<00:00, 6417.45it/s]"
     ]
    },
    {
     "name": "stdout",
     "output_type": "stream",
     "text": [
      "すべての処理が完了しました。\n"
     ]
    },
    {
     "name": "stderr",
     "output_type": "stream",
     "text": [
      "\n"
     ]
    }
   ],
   "source": [
    "#Iris (1)\n",
    "import os\n",
    "from tqdm import tqdm\n",
    "\n",
    "def process_label_file(file_path):\n",
    "    # ファイルを読み込む\n",
    "    with open(file_path, 'r') as f:\n",
    "        lines = f.readlines()\n",
    "    \n",
    "    # 処理された行を保存する\n",
    "    processed_lines = []\n",
    "    \n",
    "    for line in lines:\n",
    "        # スペースで分割\n",
    "        parts = line.strip().split(' ')\n",
    "        \n",
    "        # ラベルが1の場合のみ処理\n",
    "        if parts[0] == '1':\n",
    "            # ラベルを0に変更\n",
    "            parts[0] = '0'\n",
    "            # 行を再構築\n",
    "            processed_lines.append(' '.join(parts) + '\\n')\n",
    "    \n",
    "    # 処理結果をファイルに書き込む\n",
    "    with open(file_path, 'w') as f:\n",
    "        f.writelines(processed_lines)\n",
    "\n",
    "def process_directory(directory_path):\n",
    "    # ディレクトリ内のtxtファイルのリストを取得\n",
    "    txt_files = [f for f in os.listdir(directory_path) if f.endswith('.txt')]\n",
    "    \n",
    "    # tqdmで進捗バーを表示しながら処理\n",
    "    for filename in tqdm(txt_files, desc=f\"Processing {os.path.basename(directory_path)}\"):\n",
    "        file_path = os.path.join(directory_path, filename)\n",
    "        process_label_file(file_path)\n",
    "\n",
    "# 訓練データとバリデーションデータのディレクトリパスを指定\n",
    "train_dir = r\"C:\\Users\\CorneAI\\Desktop\\Mobius_single_annot\\iris\\train\\labels\"\n",
    "val_dir = r\"C:\\Users\\CorneAI\\Desktop\\Mobius_single_annot\\iris\\val\\labels\"\n",
    "\n",
    "print(\"ラベル処理を開始します...\")\n",
    "\n",
    "# 両方のディレクトリを処理\n",
    "process_directory(train_dir)\n",
    "process_directory(val_dir)\n",
    "\n",
    "print(\"すべての処理が完了しました。\")"
   ]
  },
  {
   "cell_type": "code",
   "execution_count": 3,
   "metadata": {},
   "outputs": [
    {
     "name": "stdout",
     "output_type": "stream",
     "text": [
      "ラベル処理を開始します...\n"
     ]
    },
    {
     "name": "stderr",
     "output_type": "stream",
     "text": [
      "Processing labels: 100%|██████████| 2447/2447 [00:00<00:00, 7804.22it/s]\n",
      "Processing labels: 100%|██████████| 1095/1095 [00:00<00:00, 7129.53it/s]"
     ]
    },
    {
     "name": "stdout",
     "output_type": "stream",
     "text": [
      "すべての処理が完了しました。\n"
     ]
    },
    {
     "name": "stderr",
     "output_type": "stream",
     "text": [
      "\n"
     ]
    }
   ],
   "source": [
    "#Pupil (0)\n",
    "import os\n",
    "from tqdm import tqdm\n",
    "\n",
    "def process_label_file(file_path):\n",
    "    # ファイルを読み込む\n",
    "    with open(file_path, 'r') as f:\n",
    "        lines = f.readlines()\n",
    "    \n",
    "    # 処理された行を保存する\n",
    "    processed_lines = []\n",
    "    \n",
    "    for line in lines:\n",
    "        # スペースで分割\n",
    "        parts = line.strip().split(' ')\n",
    "        \n",
    "        # ラベルが1の場合のみ処理\n",
    "        if parts[0] == '0':\n",
    "            # ラベルを0に変更\n",
    "            parts[0] = '0'\n",
    "            # 行を再構築\n",
    "            processed_lines.append(' '.join(parts) + '\\n')\n",
    "    \n",
    "    # 処理結果をファイルに書き込む\n",
    "    with open(file_path, 'w') as f:\n",
    "        f.writelines(processed_lines)\n",
    "\n",
    "def process_directory(directory_path):\n",
    "    # ディレクトリ内のtxtファイルのリストを取得\n",
    "    txt_files = [f for f in os.listdir(directory_path) if f.endswith('.txt')]\n",
    "    \n",
    "    # tqdmで進捗バーを表示しながら処理\n",
    "    for filename in tqdm(txt_files, desc=f\"Processing {os.path.basename(directory_path)}\"):\n",
    "        file_path = os.path.join(directory_path, filename)\n",
    "        process_label_file(file_path)\n",
    "\n",
    "# 訓練データとバリデーションデータのディレクトリパスを指定\n",
    "train_dir = r\"C:\\Users\\CorneAI\\Desktop\\Mobius_single_annot\\pupil\\train\\labels\"\n",
    "val_dir = r\"C:\\Users\\CorneAI\\Desktop\\Mobius_single_annot\\pupil\\val\\labels\"\n",
    "\n",
    "print(\"ラベル処理を開始します...\")\n",
    "\n",
    "# 両方のディレクトリを処理\n",
    "process_directory(train_dir)\n",
    "process_directory(val_dir)\n",
    "\n",
    "print(\"すべての処理が完了しました。\")"
   ]
  },
  {
   "cell_type": "code",
   "execution_count": null,
   "metadata": {},
   "outputs": [],
   "source": []
  },
  {
   "cell_type": "code",
   "execution_count": 9,
   "metadata": {},
   "outputs": [
    {
     "name": "stdout",
     "output_type": "stream",
     "text": [
      "ラベル処理を開始します...\n",
      "eyelid データの処理を開始します...\n"
     ]
    },
    {
     "name": "stderr",
     "output_type": "stream",
     "text": [
      "Processing labels: 100%|██████████| 2447/2447 [00:22<00:00, 110.58it/s]\n",
      "Processing labels: 100%|██████████| 1095/1095 [00:09<00:00, 113.87it/s]\n"
     ]
    },
    {
     "name": "stdout",
     "output_type": "stream",
     "text": [
      "eyelid データの処理が完了しました。\n",
      "iris データの処理を開始します...\n"
     ]
    },
    {
     "name": "stderr",
     "output_type": "stream",
     "text": [
      "Processing labels: 100%|██████████| 2447/2447 [00:20<00:00, 120.28it/s]\n",
      "Processing labels: 100%|██████████| 1095/1095 [00:09<00:00, 121.16it/s]\n"
     ]
    },
    {
     "name": "stdout",
     "output_type": "stream",
     "text": [
      "iris データの処理が完了しました。\n",
      "pupil データの処理を開始します...\n"
     ]
    },
    {
     "name": "stderr",
     "output_type": "stream",
     "text": [
      "Processing labels: 100%|██████████| 2447/2447 [00:20<00:00, 120.87it/s]\n",
      "Processing labels: 100%|██████████| 1095/1095 [00:09<00:00, 116.96it/s]"
     ]
    },
    {
     "name": "stdout",
     "output_type": "stream",
     "text": [
      "pupil データの処理が完了しました。\n",
      "すべての処理が完了しました。\n"
     ]
    },
    {
     "name": "stderr",
     "output_type": "stream",
     "text": [
      "\n"
     ]
    }
   ],
   "source": [
    "import os\n",
    "from tqdm import tqdm\n",
    "\n",
    "def process_label_file(file_path, old_label, new_label='0'):\n",
    "    \"\"\"\n",
    "    指定ファイルからold_label以外の行を全て削除し、その後old_labelをnew_labelに置き換える。\n",
    "    もし全削除になってしまう場合は処理をスキップ。\n",
    "    \"\"\"\n",
    "    with open(file_path, 'r') as f:\n",
    "        original_lines = f.readlines()\n",
    "\n",
    "    # old_labelのみを残す\n",
    "    filtered_lines = []\n",
    "    for line in original_lines:\n",
    "        parts = line.strip().split(' ')\n",
    "        if parts[0] == old_label:\n",
    "            filtered_lines.append(line)\n",
    "\n",
    "    # 全削除になった場合は警告してスキップ\n",
    "    if len(filtered_lines) == 0:\n",
    "        print(f\"警告: {file_path} は処理後に対象ラベル行がなくなるため変更をスキップします。\")\n",
    "        return\n",
    "\n",
    "    # old_label -> new_labelに置き換え\n",
    "    processed_lines = []\n",
    "    for line in filtered_lines:\n",
    "        parts = line.strip().split(' ')\n",
    "        # parts[0]は必ずold_labelなのでnew_labelに変更\n",
    "        parts[0] = new_label\n",
    "        processed_lines.append(' '.join(parts) + '\\n')\n",
    "\n",
    "    with open(file_path, 'w') as f:\n",
    "        f.writelines(processed_lines)\n",
    "\n",
    "\n",
    "def process_directory(directory_path, old_label, new_label='0'):\n",
    "    txt_files = [f for f in os.listdir(directory_path) if f.endswith('.txt')]\n",
    "    for filename in tqdm(txt_files, desc=f\"Processing {os.path.basename(directory_path)}\"):\n",
    "        file_path = os.path.join(directory_path, filename)\n",
    "        process_label_file(file_path, old_label, new_label)\n",
    "\n",
    "\n",
    "# 処理したい対象とラベルマップの定義\n",
    "tasks = [\n",
    "    {\n",
    "        \"name\": \"eyelid\",\n",
    "        \"train_dir\": r\"C:\\Users\\CorneAI\\Desktop\\Mobius_single_annot\\eyelid\\train\\labels\",\n",
    "        \"val_dir\": r\"C:\\Users\\CorneAI\\Desktop\\Mobius_single_annot\\eyelid\\val\\labels\",\n",
    "        \"old_label\": \"2\",\n",
    "        \"new_label\": \"0\"\n",
    "    },\n",
    "    {\n",
    "        \"name\": \"iris\",\n",
    "        \"train_dir\": r\"C:\\Users\\CorneAI\\Desktop\\Mobius_single_annot\\iris\\train\\labels\",\n",
    "        \"val_dir\": r\"C:\\Users\\CorneAI\\Desktop\\Mobius_single_annot\\iris\\val\\labels\",\n",
    "        \"old_label\": \"1\",\n",
    "        \"new_label\": \"0\"\n",
    "    },\n",
    "    {\n",
    "        \"name\": \"pupil\",\n",
    "        \"train_dir\": r\"C:\\Users\\CorneAI\\Desktop\\Mobius_single_annot\\pupil\\train\\labels\",\n",
    "        \"val_dir\": r\"C:\\Users\\CorneAI\\Desktop\\Mobius_single_annot\\pupil\\val\\labels\",\n",
    "        \"old_label\": \"0\",\n",
    "        \"new_label\": \"0\"\n",
    "    }\n",
    "]\n",
    "\n",
    "print(\"ラベル処理を開始します...\")\n",
    "\n",
    "for task in tasks:\n",
    "    print(f\"{task['name']} データの処理を開始します...\")\n",
    "    process_directory(task['train_dir'], task['old_label'], task['new_label'])\n",
    "    process_directory(task['val_dir'], task['old_label'], task['new_label'])\n",
    "    print(f\"{task['name']} データの処理が完了しました。\")\n",
    "\n",
    "print(\"すべての処理が完了しました。\")\n"
   ]
  }
 ],
 "metadata": {
  "kernelspec": {
   "display_name": "instanceenv",
   "language": "python",
   "name": "python3"
  },
  "language_info": {
   "codemirror_mode": {
    "name": "ipython",
    "version": 3
   },
   "file_extension": ".py",
   "mimetype": "text/x-python",
   "name": "python",
   "nbconvert_exporter": "python",
   "pygments_lexer": "ipython3",
   "version": "3.10.5"
  }
 },
 "nbformat": 4,
 "nbformat_minor": 2
}
